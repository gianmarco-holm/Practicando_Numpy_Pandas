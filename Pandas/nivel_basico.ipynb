{
 "cells": [
  {
   "cell_type": "markdown",
   "metadata": {},
   "source": [
    "# Ejercicios Nivel Básico"
   ]
  },
  {
   "cell_type": "code",
   "execution_count": 3,
   "metadata": {},
   "outputs": [],
   "source": [
    "# Importando Librerías\n",
    "import pandas as pd\n",
    "import numpy as np"
   ]
  },
  {
   "cell_type": "markdown",
   "metadata": {},
   "source": [
    "1. Creación de DataFrame:\n",
    "\n",
    "Crea un DataFrame con al menos tres columnas y cinco filas. Puedes inventar datos o utilizar datos reales."
   ]
  },
  {
   "cell_type": "code",
   "execution_count": 22,
   "metadata": {},
   "outputs": [
    {
     "name": "stdout",
     "output_type": "stream",
     "text": [
      "   column1  column2  column3  column4  column5\n",
      "0       87       50       21       61       17\n",
      "1       50       50       63       81       92\n",
      "2       33       29       13       12       87\n",
      "3       79       36       94       70       91\n",
      "4       63       30       87        9       10\n"
     ]
    }
   ],
   "source": [
    "dict = {\n",
    "    'column1': np.random.randint(1,100,5),\n",
    "    'column2': np.random.randint(1,100,5),\n",
    "    'column3': np.random.randint(1,100,5),\n",
    "    'column4': np.random.randint(1,100,5),\n",
    "    'column5': np.random.randint(1,100,5)\n",
    "}\n",
    "df = pd.DataFrame(dict)\n",
    "print(df)"
   ]
  },
  {
   "cell_type": "markdown",
   "metadata": {},
   "source": [
    "2. Selección de Datos:\n",
    "\n",
    "A partir del DataFrame anterior, selecciona e imprime solo las filas pares."
   ]
  },
  {
   "cell_type": "code",
   "execution_count": 12,
   "metadata": {},
   "outputs": [
    {
     "data": {
      "text/html": [
       "<div>\n",
       "<style scoped>\n",
       "    .dataframe tbody tr th:only-of-type {\n",
       "        vertical-align: middle;\n",
       "    }\n",
       "\n",
       "    .dataframe tbody tr th {\n",
       "        vertical-align: top;\n",
       "    }\n",
       "\n",
       "    .dataframe thead th {\n",
       "        text-align: right;\n",
       "    }\n",
       "</style>\n",
       "<table border=\"1\" class=\"dataframe\">\n",
       "  <thead>\n",
       "    <tr style=\"text-align: right;\">\n",
       "      <th></th>\n",
       "      <th>column1</th>\n",
       "      <th>column2</th>\n",
       "      <th>column3</th>\n",
       "      <th>column4</th>\n",
       "      <th>column5</th>\n",
       "    </tr>\n",
       "  </thead>\n",
       "  <tbody>\n",
       "    <tr>\n",
       "      <th>2</th>\n",
       "      <td>7</td>\n",
       "      <td>3</td>\n",
       "      <td>3</td>\n",
       "      <td>6</td>\n",
       "      <td>6</td>\n",
       "    </tr>\n",
       "    <tr>\n",
       "      <th>4</th>\n",
       "      <td>1</td>\n",
       "      <td>4</td>\n",
       "      <td>7</td>\n",
       "      <td>2</td>\n",
       "      <td>2</td>\n",
       "    </tr>\n",
       "  </tbody>\n",
       "</table>\n",
       "</div>"
      ],
      "text/plain": [
       "   column1  column2  column3  column4  column5\n",
       "2        7        3        3        6        6\n",
       "4        1        4        7        2        2"
      ]
     },
     "execution_count": 12,
     "metadata": {},
     "output_type": "execute_result"
    }
   ],
   "source": [
    "df[2::2]"
   ]
  },
  {
   "cell_type": "markdown",
   "metadata": {},
   "source": [
    "3. Operaciones Básicas:\n",
    "\n",
    "Realiza operaciones básicas como suma, resta, multiplicación y división en una columna específica de tu DataFrame."
   ]
  },
  {
   "cell_type": "code",
   "execution_count": 20,
   "metadata": {},
   "outputs": [
    {
     "name": "stdout",
     "output_type": "stream",
     "text": [
      "Operaciones estadisticas\n",
      "        column1   column2   column3   column4   column5\n",
      "count  5.000000  5.000000  5.000000  5.000000  5.000000\n",
      "mean   4.800000  2.400000  4.400000  5.200000  4.200000\n",
      "std    3.193744  1.341641  2.073644  2.167948  2.280351\n",
      "min    1.000000  1.000000  2.000000  2.000000  2.000000\n",
      "25%    3.000000  1.000000  3.000000  5.000000  2.000000\n",
      "50%    4.000000  3.000000  4.000000  5.000000  4.000000\n",
      "75%    7.000000  3.000000  6.000000  6.000000  6.000000\n",
      "max    9.000000  4.000000  7.000000  8.000000  7.000000\n",
      "Suma de column1\n",
      "0    14\n",
      "1    19\n",
      "2    17\n",
      "3    13\n",
      "4    11\n",
      "Name: column1, dtype: int64\n",
      "Resta de column2\n",
      "0   -1\n",
      "1    1\n",
      "2    1\n",
      "3   -1\n",
      "4    2\n",
      "Name: column2, dtype: int64\n",
      "Multiplicación de column3\n",
      "0    18\n",
      "1     6\n",
      "2     9\n",
      "3    12\n",
      "4    21\n",
      "Name: column3, dtype: int64\n",
      "Division de column4\n",
      "0    2.5\n",
      "1    2.5\n",
      "2    3.0\n",
      "3    4.0\n",
      "4    1.0\n",
      "Name: column4, dtype: float64\n"
     ]
    }
   ],
   "source": [
    "print(\"Operaciones estadisticas\")\n",
    "print(df.describe())\n",
    "\n",
    "print(\"Suma de column1\")\n",
    "print(df['column1'].add(10))\n",
    "\n",
    "print(\"Resta de column2\")\n",
    "print(df['column2'].sub(2))\n",
    "\n",
    "print(\"Multiplicación de column3\")\n",
    "print(df['column3'].mul(3))\n",
    "\n",
    "print(\"Division de column4\")\n",
    "print(df['column4'].div(2))"
   ]
  },
  {
   "cell_type": "markdown",
   "metadata": {},
   "source": [
    "4. Filtrado de Datos:\n",
    "\n",
    "Filtra el DataFrame para mostrar solo las filas donde el valor en una columna específica sea mayor que 10."
   ]
  },
  {
   "cell_type": "code",
   "execution_count": 23,
   "metadata": {},
   "outputs": [
    {
     "data": {
      "text/html": [
       "<div>\n",
       "<style scoped>\n",
       "    .dataframe tbody tr th:only-of-type {\n",
       "        vertical-align: middle;\n",
       "    }\n",
       "\n",
       "    .dataframe tbody tr th {\n",
       "        vertical-align: top;\n",
       "    }\n",
       "\n",
       "    .dataframe thead th {\n",
       "        text-align: right;\n",
       "    }\n",
       "</style>\n",
       "<table border=\"1\" class=\"dataframe\">\n",
       "  <thead>\n",
       "    <tr style=\"text-align: right;\">\n",
       "      <th></th>\n",
       "      <th>column1</th>\n",
       "      <th>column2</th>\n",
       "      <th>column3</th>\n",
       "      <th>column4</th>\n",
       "      <th>column5</th>\n",
       "    </tr>\n",
       "  </thead>\n",
       "  <tbody>\n",
       "    <tr>\n",
       "      <th>0</th>\n",
       "      <td>87</td>\n",
       "      <td>50</td>\n",
       "      <td>21</td>\n",
       "      <td>61.0</td>\n",
       "      <td>17.0</td>\n",
       "    </tr>\n",
       "    <tr>\n",
       "      <th>1</th>\n",
       "      <td>50</td>\n",
       "      <td>50</td>\n",
       "      <td>63</td>\n",
       "      <td>81.0</td>\n",
       "      <td>92.0</td>\n",
       "    </tr>\n",
       "    <tr>\n",
       "      <th>2</th>\n",
       "      <td>33</td>\n",
       "      <td>29</td>\n",
       "      <td>13</td>\n",
       "      <td>12.0</td>\n",
       "      <td>87.0</td>\n",
       "    </tr>\n",
       "    <tr>\n",
       "      <th>3</th>\n",
       "      <td>79</td>\n",
       "      <td>36</td>\n",
       "      <td>94</td>\n",
       "      <td>70.0</td>\n",
       "      <td>91.0</td>\n",
       "    </tr>\n",
       "    <tr>\n",
       "      <th>4</th>\n",
       "      <td>63</td>\n",
       "      <td>30</td>\n",
       "      <td>87</td>\n",
       "      <td>NaN</td>\n",
       "      <td>NaN</td>\n",
       "    </tr>\n",
       "  </tbody>\n",
       "</table>\n",
       "</div>"
      ],
      "text/plain": [
       "   column1  column2  column3  column4  column5\n",
       "0       87       50       21     61.0     17.0\n",
       "1       50       50       63     81.0     92.0\n",
       "2       33       29       13     12.0     87.0\n",
       "3       79       36       94     70.0     91.0\n",
       "4       63       30       87      NaN      NaN"
      ]
     },
     "execution_count": 23,
     "metadata": {},
     "output_type": "execute_result"
    }
   ],
   "source": [
    "df[df>10]"
   ]
  },
  {
   "cell_type": "markdown",
   "metadata": {},
   "source": [
    "5. Agrupación y Resumen:\n",
    "\n",
    "Agrupa el DataFrame por una columna y calcula la suma o el promedio de otra columna."
   ]
  },
  {
   "cell_type": "code",
   "execution_count": 26,
   "metadata": {},
   "outputs": [
    {
     "data": {
      "text/html": [
       "<div>\n",
       "<style scoped>\n",
       "    .dataframe tbody tr th:only-of-type {\n",
       "        vertical-align: middle;\n",
       "    }\n",
       "\n",
       "    .dataframe tbody tr th {\n",
       "        vertical-align: top;\n",
       "    }\n",
       "\n",
       "    .dataframe thead th {\n",
       "        text-align: right;\n",
       "    }\n",
       "</style>\n",
       "<table border=\"1\" class=\"dataframe\">\n",
       "  <thead>\n",
       "    <tr style=\"text-align: right;\">\n",
       "      <th></th>\n",
       "      <th>column2</th>\n",
       "      <th>column3</th>\n",
       "      <th>column4</th>\n",
       "      <th>column5</th>\n",
       "    </tr>\n",
       "    <tr>\n",
       "      <th>column1</th>\n",
       "      <th></th>\n",
       "      <th></th>\n",
       "      <th></th>\n",
       "      <th></th>\n",
       "    </tr>\n",
       "  </thead>\n",
       "  <tbody>\n",
       "    <tr>\n",
       "      <th>33</th>\n",
       "      <td>29</td>\n",
       "      <td>13</td>\n",
       "      <td>12</td>\n",
       "      <td>87</td>\n",
       "    </tr>\n",
       "    <tr>\n",
       "      <th>50</th>\n",
       "      <td>50</td>\n",
       "      <td>63</td>\n",
       "      <td>81</td>\n",
       "      <td>92</td>\n",
       "    </tr>\n",
       "    <tr>\n",
       "      <th>63</th>\n",
       "      <td>30</td>\n",
       "      <td>87</td>\n",
       "      <td>9</td>\n",
       "      <td>10</td>\n",
       "    </tr>\n",
       "    <tr>\n",
       "      <th>79</th>\n",
       "      <td>36</td>\n",
       "      <td>94</td>\n",
       "      <td>70</td>\n",
       "      <td>91</td>\n",
       "    </tr>\n",
       "    <tr>\n",
       "      <th>87</th>\n",
       "      <td>50</td>\n",
       "      <td>21</td>\n",
       "      <td>61</td>\n",
       "      <td>17</td>\n",
       "    </tr>\n",
       "  </tbody>\n",
       "</table>\n",
       "</div>"
      ],
      "text/plain": [
       "         column2  column3  column4  column5\n",
       "column1                                    \n",
       "33            29       13       12       87\n",
       "50            50       63       81       92\n",
       "63            30       87        9       10\n",
       "79            36       94       70       91\n",
       "87            50       21       61       17"
      ]
     },
     "execution_count": 26,
     "metadata": {},
     "output_type": "execute_result"
    }
   ],
   "source": [
    "df.groupby('column1').sum()"
   ]
  }
 ],
 "metadata": {
  "kernelspec": {
   "display_name": "conda",
   "language": "python",
   "name": "python3"
  },
  "language_info": {
   "codemirror_mode": {
    "name": "ipython",
    "version": 3
   },
   "file_extension": ".py",
   "mimetype": "text/x-python",
   "name": "python",
   "nbconvert_exporter": "python",
   "pygments_lexer": "ipython3",
   "version": "3.12.0"
  }
 },
 "nbformat": 4,
 "nbformat_minor": 2
}
