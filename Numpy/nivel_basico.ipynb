{
 "cells": [
  {
   "cell_type": "markdown",
   "metadata": {},
   "source": [
    "# Ejercicios Nivel básico"
   ]
  },
  {
   "cell_type": "code",
   "execution_count": 2,
   "metadata": {},
   "outputs": [],
   "source": [
    "# Importando Librerías\n",
    "import numpy as np"
   ]
  },
  {
   "cell_type": "markdown",
   "metadata": {},
   "source": [
    "1. Crea un array de NumPy con los números del 1 al 10."
   ]
  },
  {
   "cell_type": "code",
   "execution_count": 4,
   "metadata": {},
   "outputs": [
    {
     "name": "stdout",
     "output_type": "stream",
     "text": [
      "[ 1  2  3  4  5  6  7  8  9 10]\n"
     ]
    }
   ],
   "source": [
    "a =np.arange(1,11)\n",
    "print(a)"
   ]
  },
  {
   "cell_type": "markdown",
   "metadata": {},
   "source": [
    "2. Crea dos arrays de NumPy, uno con números pares y otro con números impares del 1 al 10. Realiza una operación de suma entre ambos arrays."
   ]
  },
  {
   "cell_type": "code",
   "execution_count": 10,
   "metadata": {},
   "outputs": [
    {
     "name": "stdout",
     "output_type": "stream",
     "text": [
      "[ 2  4  6  8 10]\n",
      "[1 3 5 7 9]\n",
      "[ 3  7 11 15 19]\n"
     ]
    }
   ],
   "source": [
    "array_pares = np.arange(2,11,2)\n",
    "array_impares = np.arange(1,11,2)\n",
    "suma = array_pares + array_impares\n",
    "print(array_pares)\n",
    "print(array_impares)\n",
    "print(suma)"
   ]
  },
  {
   "cell_type": "markdown",
   "metadata": {},
   "source": [
    "3. Dado un array de NumPy con números del 1 al 20, imprime los elementos que están en las posiciones impares."
   ]
  },
  {
   "cell_type": "code",
   "execution_count": 15,
   "metadata": {},
   "outputs": [
    {
     "data": {
      "text/plain": [
       "array([ 2,  4,  6,  8, 10, 12, 14, 16, 18, 20])"
      ]
     },
     "execution_count": 15,
     "metadata": {},
     "output_type": "execute_result"
    }
   ],
   "source": [
    "b = np.arange(1,21)\n",
    "b[1::2]"
   ]
  },
  {
   "cell_type": "markdown",
   "metadata": {},
   "source": [
    "4. Crea una matriz de 3x3 con valores aleatorios. Luego, cambia el valor en la posición (2,2) por 0."
   ]
  },
  {
   "cell_type": "code",
   "execution_count": 22,
   "metadata": {},
   "outputs": [
    {
     "name": "stdout",
     "output_type": "stream",
     "text": [
      "[[8 9 5]\n",
      " [9 5 7]\n",
      " [8 1 6]]\n",
      "[[8 9 5]\n",
      " [9 5 7]\n",
      " [8 1 0]]\n"
     ]
    }
   ],
   "source": [
    "matriz_1 = np.linspace(1,30,9).reshape(3,3)\n",
    "matriz_2 = np.random.randint(1, 10, (3,3))\n",
    "print(matriz_2)\n",
    "matriz_2[2,2]=0\n",
    "print(matriz_2)"
   ]
  },
  {
   "cell_type": "markdown",
   "metadata": {},
   "source": [
    "5. Crea un array de NumPy con números aleatorios del 1 al 100. Imprime los valores que son mayores que 20 y menor 70"
   ]
  },
  {
   "cell_type": "code",
   "execution_count": 26,
   "metadata": {},
   "outputs": [
    {
     "data": {
      "text/plain": [
       "array([52, 23, 64, 37, 25, 36, 58, 48, 38, 39, 39, 53, 43, 31, 48, 33, 39,\n",
       "       48, 67, 31, 23, 43, 48, 42, 21, 52, 25, 41, 60, 28, 64, 59, 21, 41,\n",
       "       31, 49, 41, 36, 28, 59, 50, 67, 25, 45, 61, 26, 24, 38, 57, 36, 59])"
      ]
     },
     "execution_count": 26,
     "metadata": {},
     "output_type": "execute_result"
    }
   ],
   "source": [
    "array_3 = np.random.randint(1,101,100)\n",
    "array_3[(array_3>20) & (array_3<70)]"
   ]
  }
 ],
 "metadata": {
  "kernelspec": {
   "display_name": "conda",
   "language": "python",
   "name": "python3"
  },
  "language_info": {
   "codemirror_mode": {
    "name": "ipython",
    "version": 3
   },
   "file_extension": ".py",
   "mimetype": "text/x-python",
   "name": "python",
   "nbconvert_exporter": "python",
   "pygments_lexer": "ipython3",
   "version": "3.12.0"
  }
 },
 "nbformat": 4,
 "nbformat_minor": 2
}
