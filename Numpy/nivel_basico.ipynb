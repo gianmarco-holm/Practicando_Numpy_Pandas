{
 "cells": [
  {
   "cell_type": "markdown",
   "metadata": {},
   "source": [
    "# Ejercicios Nivel básico"
   ]
  },
  {
   "cell_type": "code",
   "execution_count": 2,
   "metadata": {},
   "outputs": [],
   "source": [
    "# Importando Librerías\n",
    "import numpy as np"
   ]
  },
  {
   "cell_type": "markdown",
   "metadata": {},
   "source": [
    "1. Crea un array de NumPy con los números del 1 al 10."
   ]
  },
  {
   "cell_type": "code",
   "execution_count": 4,
   "metadata": {},
   "outputs": [
    {
     "name": "stdout",
     "output_type": "stream",
     "text": [
      "[ 1  2  3  4  5  6  7  8  9 10]\n"
     ]
    }
   ],
   "source": [
    "a =np.arange(1,11)\n",
    "print(a)"
   ]
  },
  {
   "cell_type": "markdown",
   "metadata": {},
   "source": [
    "2. Crea dos arrays de NumPy, uno con números pares y otro con números impares del 1 al 10. Realiza una operación de suma entre ambos arrays."
   ]
  },
  {
   "cell_type": "code",
   "execution_count": 10,
   "metadata": {},
   "outputs": [
    {
     "name": "stdout",
     "output_type": "stream",
     "text": [
      "[ 2  4  6  8 10]\n",
      "[1 3 5 7 9]\n",
      "[ 3  7 11 15 19]\n"
     ]
    }
   ],
   "source": [
    "array_pares = np.arange(2,11,2)\n",
    "array_impares = np.arange(1,11,2)\n",
    "suma = array_pares + array_impares\n",
    "print(array_pares)\n",
    "print(array_impares)\n",
    "print(suma)"
   ]
  },
  {
   "cell_type": "markdown",
   "metadata": {},
   "source": [
    "3. Dado un array de NumPy con números del 1 al 20, imprime los elementos que están en las posiciones impares."
   ]
  },
  {
   "cell_type": "code",
   "execution_count": 15,
   "metadata": {},
   "outputs": [
    {
     "data": {
      "text/plain": [
       "array([ 2,  4,  6,  8, 10, 12, 14, 16, 18, 20])"
      ]
     },
     "execution_count": 15,
     "metadata": {},
     "output_type": "execute_result"
    }
   ],
   "source": [
    "b = np.arange(1,21)\n",
    "b[1::2]"
   ]
  },
  {
   "cell_type": "markdown",
   "metadata": {},
   "source": [
    "4. Crea una matriz de 3x3 con valores aleatorios. Luego, cambia el valor en la posición (2,2) por 0."
   ]
  },
  {
   "cell_type": "code",
   "execution_count": 22,
   "metadata": {},
   "outputs": [
    {
     "name": "stdout",
     "output_type": "stream",
     "text": [
      "[[8 9 5]\n",
      " [9 5 7]\n",
      " [8 1 6]]\n",
      "[[8 9 5]\n",
      " [9 5 7]\n",
      " [8 1 0]]\n"
     ]
    }
   ],
   "source": [
    "matriz_1 = np.linspace(1,30,9).reshape(3,3)\n",
    "matriz_2 = np.random.randint(1, 10, (3,3))\n",
    "print(matriz_2)\n",
    "matriz_2[2,2]=0\n",
    "print(matriz_2)"
   ]
  },
  {
   "cell_type": "markdown",
   "metadata": {},
   "source": [
    "5. Crea un array de NumPy con números aleatorios del 1 al 100. Imprime los valores que son mayores que 20 y menor 70"
   ]
  },
  {
   "cell_type": "code",
   "execution_count": 26,
   "metadata": {},
   "outputs": [
    {
     "data": {
      "text/plain": [
       "array([52, 23, 64, 37, 25, 36, 58, 48, 38, 39, 39, 53, 43, 31, 48, 33, 39,\n",
       "       48, 67, 31, 23, 43, 48, 42, 21, 52, 25, 41, 60, 28, 64, 59, 21, 41,\n",
       "       31, 49, 41, 36, 28, 59, 50, 67, 25, 45, 61, 26, 24, 38, 57, 36, 59])"
      ]
     },
     "execution_count": 26,
     "metadata": {},
     "output_type": "execute_result"
    }
   ],
   "source": [
    "array_3 = np.random.randint(1,101,100)\n",
    "array_3[(array_3>20) & (array_3<70)]"
   ]
  },
  {
   "cell_type": "markdown",
   "metadata": {},
   "source": [
    "# Ejercicios Nivel Intermedio"
   ]
  },
  {
   "cell_type": "markdown",
   "metadata": {},
   "source": [
    "1. Operaciones Estadísticas:\n",
    "\n",
    "Genera un array de NumPy con 100 números aleatorios entre 0 y 1. Calcula la media, mediana, desviación estándar y varianza de ese array."
   ]
  },
  {
   "cell_type": "code",
   "execution_count": 33,
   "metadata": {},
   "outputs": [
    {
     "name": "stdout",
     "output_type": "stream",
     "text": [
      "Media o Promedio: 0.508185742166059\n",
      "Mediana: 0.5269198914756854\n",
      "Desviación estandar: 0.3018598047938059\n",
      "Varianza: 0.09111934175015461\n"
     ]
    }
   ],
   "source": [
    "array_4 = np.random.rand(100)\n",
    "print(f'Media o Promedio: {np.mean(array_4)}')\n",
    "print(f'Mediana: {np.median(array_4)}')\n",
    "print(f'Desviación estandar: {np.std(array_4)}')\n",
    "print(f'Varianza: {np.var(array_4)}')"
   ]
  },
  {
   "cell_type": "markdown",
   "metadata": {},
   "source": [
    "2. Concatenación y Reshape:\n",
    "\n",
    "Crea dos matrices de 2x3 con números aleatorios. Concaténalas horizontalmente y luego realiza un reshape para convertirla en una matriz de 1x12."
   ]
  },
  {
   "cell_type": "code",
   "execution_count": 43,
   "metadata": {},
   "outputs": [
    {
     "data": {
      "text/plain": [
       "array([[6, 0, 2, 5, 4, 6, 4, 3, 8, 4, 9, 3]])"
      ]
     },
     "execution_count": 43,
     "metadata": {},
     "output_type": "execute_result"
    }
   ],
   "source": [
    "matriz_3 = np.random.randint(0,10,(2,3))\n",
    "matriz_4 = np.random.randint(0,10,(2,3))\n",
    "matriz_concatenada = np.concatenate((matriz_3, matriz_4), axis=1).reshape(1, 12)\n",
    "matriz_concatenada"
   ]
  },
  {
   "cell_type": "markdown",
   "metadata": {},
   "source": [
    "3. Operaciones de Álgebra Lineal:\n",
    "\n",
    "Crea una matriz de 3x3 con números aleatorios y su inversa. Multiplica la matriz original por su inversa y verifica que el resultado sea una matriz de identidad."
   ]
  },
  {
   "cell_type": "code",
   "execution_count": 49,
   "metadata": {},
   "outputs": [
    {
     "name": "stdout",
     "output_type": "stream",
     "text": [
      "[[-3.87148858 -0.57215235  0.8987199 ]\n",
      " [ 4.3987796   0.05806884 -4.7538983 ]\n",
      " [ 3.08195562  1.09298758 -1.02714092]]\n",
      "[[ 1.00000000e+00 -1.81228626e-17  6.74820082e-17]\n",
      " [-5.38673647e-16  1.00000000e+00 -3.33671818e-16]\n",
      " [-8.53207282e-16  5.64000872e-17  1.00000000e+00]]\n",
      "True\n"
     ]
    }
   ],
   "source": [
    "matriz_5 = np.random.rand(3,3)\n",
    "matriz_5_inv = np.linalg.inv(matriz_5)\n",
    "matriz_identidad = np.dot(matriz_5, matriz_5_inv)\n",
    "validacion_matriz_identidad = np.allclose(matriz_identidad, np.eye(3))\n",
    "print(matriz_5 * matriz_5_inv)\n",
    "print(matriz_identidad)\n",
    "print(validacion_matriz_identidad)"
   ]
  },
  {
   "cell_type": "markdown",
   "metadata": {},
   "source": []
  },
  {
   "cell_type": "code",
   "execution_count": null,
   "metadata": {},
   "outputs": [],
   "source": []
  }
 ],
 "metadata": {
  "kernelspec": {
   "display_name": "conda",
   "language": "python",
   "name": "python3"
  },
  "language_info": {
   "codemirror_mode": {
    "name": "ipython",
    "version": 3
   },
   "file_extension": ".py",
   "mimetype": "text/x-python",
   "name": "python",
   "nbconvert_exporter": "python",
   "pygments_lexer": "ipython3",
   "version": "3.12.0"
  }
 },
 "nbformat": 4,
 "nbformat_minor": 2
}
