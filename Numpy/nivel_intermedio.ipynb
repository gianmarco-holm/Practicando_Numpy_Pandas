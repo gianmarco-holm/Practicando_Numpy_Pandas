{
 "cells": [
  {
   "cell_type": "markdown",
   "metadata": {},
   "source": [
    "# Ejercicios Nivel Intermedio"
   ]
  },
  {
   "cell_type": "code",
   "execution_count": 1,
   "metadata": {},
   "outputs": [],
   "source": [
    "# Importando librerias\n",
    "import numpy as np"
   ]
  },
  {
   "cell_type": "markdown",
   "metadata": {},
   "source": [
    "1. Operaciones Estadísticas:\n",
    "\n",
    "Genera un array de NumPy con 100 números aleatorios entre 0 y 1. Calcula la media, mediana, desviación estándar y varianza de ese array."
   ]
  },
  {
   "cell_type": "code",
   "execution_count": 2,
   "metadata": {},
   "outputs": [
    {
     "name": "stdout",
     "output_type": "stream",
     "text": [
      "Media o Promedio: 0.4449554571329296\n",
      "Mediana: 0.41126721350194106\n",
      "Desviación estandar: 0.27629841700223734\n",
      "Varianza: 0.07634081523794224\n"
     ]
    }
   ],
   "source": [
    "array_4 = np.random.rand(100)\n",
    "print(f'Media o Promedio: {np.mean(array_4)}')\n",
    "print(f'Mediana: {np.median(array_4)}')\n",
    "print(f'Desviación estandar: {np.std(array_4)}')\n",
    "print(f'Varianza: {np.var(array_4)}')"
   ]
  },
  {
   "cell_type": "markdown",
   "metadata": {},
   "source": [
    "2. Concatenación y Reshape:\n",
    "\n",
    "Crea dos matrices de 2x3 con números aleatorios. Concaténalas horizontalmente y luego realiza un reshape para convertirla en una matriz de 1x12."
   ]
  },
  {
   "cell_type": "code",
   "execution_count": 3,
   "metadata": {},
   "outputs": [
    {
     "data": {
      "text/plain": [
       "array([[6, 2, 3, 4, 8, 0, 0, 5, 0, 7, 0, 9]])"
      ]
     },
     "execution_count": 3,
     "metadata": {},
     "output_type": "execute_result"
    }
   ],
   "source": [
    "matriz_3 = np.random.randint(0,10,(2,3))\n",
    "matriz_4 = np.random.randint(0,10,(2,3))\n",
    "matriz_concatenada = np.concatenate((matriz_3, matriz_4), axis=1).reshape(1, 12)\n",
    "matriz_concatenada"
   ]
  },
  {
   "cell_type": "markdown",
   "metadata": {},
   "source": [
    "3. Operaciones de Álgebra Lineal:\n",
    "\n",
    "Crea una matriz de 3x3 con números aleatorios y su inversa. Multiplica la matriz original por su inversa y verifica que el resultado sea una matriz de identidad."
   ]
  },
  {
   "cell_type": "code",
   "execution_count": 4,
   "metadata": {},
   "outputs": [
    {
     "name": "stdout",
     "output_type": "stream",
     "text": [
      "[[ 3.63714577 -3.17735909 -1.80167293]\n",
      " [-1.16777793  1.47032181  2.77840741]\n",
      " [ 0.09851633  0.71909893 -0.0039782 ]]\n",
      "[[ 1.00000000e+00  1.46640169e-17 -4.41673641e-17]\n",
      " [ 7.49349550e-17  1.00000000e+00 -1.58276230e-16]\n",
      " [ 6.45368858e-17  3.26946684e-16  1.00000000e+00]]\n",
      "True\n"
     ]
    }
   ],
   "source": [
    "matriz_5 = np.random.rand(3,3)\n",
    "matriz_5_inv = np.linalg.inv(matriz_5)\n",
    "matriz_identidad = np.dot(matriz_5, matriz_5_inv)\n",
    "validacion_matriz_identidad = np.allclose(matriz_identidad, np.eye(3))\n",
    "print(matriz_5 * matriz_5_inv)\n",
    "print(matriz_identidad)\n",
    "print(validacion_matriz_identidad)"
   ]
  }
 ],
 "metadata": {
  "kernelspec": {
   "display_name": "conda",
   "language": "python",
   "name": "python3"
  },
  "language_info": {
   "codemirror_mode": {
    "name": "ipython",
    "version": 3
   },
   "file_extension": ".py",
   "mimetype": "text/x-python",
   "name": "python",
   "nbconvert_exporter": "python",
   "pygments_lexer": "ipython3",
   "version": "3.12.0"
  }
 },
 "nbformat": 4,
 "nbformat_minor": 2
}
