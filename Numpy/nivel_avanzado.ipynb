{
 "cells": [
  {
   "cell_type": "markdown",
   "metadata": {},
   "source": [
    "# Ejercicios Nivel Intermedio"
   ]
  },
  {
   "cell_type": "code",
   "execution_count": 1,
   "metadata": {},
   "outputs": [],
   "source": [
    "# Importando librerias\n",
    "import numpy as np"
   ]
  },
  {
   "cell_type": "markdown",
   "metadata": {},
   "source": [
    "1. Manipulación Avanzada:\n",
    "\n",
    "Crea una matriz de 5x5 con números aleatorios. Encuentra el valor mínimo de cada fila y réstalo a todos los elementos de esa fila."
   ]
  },
  {
   "cell_type": "code",
   "execution_count": 6,
   "metadata": {},
   "outputs": [
    {
     "name": "stdout",
     "output_type": "stream",
     "text": [
      "[[0.67247042 0.44997749 0.29844026 0.15376262 0.58847302]\n",
      " [0.95140167 0.75193241 0.10880472 0.4533013  0.99875064]\n",
      " [0.66068388 0.06785106 0.37706928 0.37802188 0.97577585]\n",
      " [0.03783373 0.39271613 0.55552499 0.63217165 0.6200492 ]\n",
      " [0.7780306  0.23979898 0.3898923  0.45761137 0.04377123]]\n",
      "[0.15376262 0.10880472 0.06785106 0.03783373 0.04377123]\n",
      "[[ 0.51870779  0.34117278  0.2305892   0.11592889  0.54470178]\n",
      " [ 0.79763904  0.64312769  0.04095366  0.41546757  0.9549794 ]\n",
      " [ 0.50692126 -0.04095366  0.30921822  0.34018815  0.93200462]\n",
      " [-0.11592889  0.28391141  0.48767394  0.59433792  0.57627796]\n",
      " [ 0.62426797  0.13099426  0.32204125  0.41977763  0.        ]]\n"
     ]
    }
   ],
   "source": [
    "matriz = np.random.rand(5,5)\n",
    "print(matriz)\n",
    "valor_minimo_de_la_matriz = np.min(matriz, axis=1)\n",
    "print(valor_minimo_de_la_matriz)\n",
    "matriz_restada_con_su_valor_minimo = matriz - np.expand_dims(valor_minimo_de_la_matriz, axis=1)\n",
    "print(matriz_restada_con_su_valor_minimo)"
   ]
  },
  {
   "cell_type": "markdown",
   "metadata": {},
   "source": [
    "2. Creación de Tensores:\n",
    "\n",
    "Crea un tensor tridimensional (3x3x3) con números aleatorios. Calcula la suma de todos los elementos en la dimensión 1."
   ]
  },
  {
   "cell_type": "code",
   "execution_count": 19,
   "metadata": {},
   "outputs": [
    {
     "name": "stdout",
     "output_type": "stream",
     "text": [
      "Tensor tridimensional:\n",
      "[[[0 1 5]\n",
      "  [9 3 0]\n",
      "  [5 8 7]]\n",
      "\n",
      " [[6 8 9]\n",
      "  [6 0 2]\n",
      "  [2 9 1]]\n",
      "\n",
      " [[0 1 3]\n",
      "  [5 9 5]\n",
      "  [5 3 0]]]\n",
      "\n",
      "Suma en la dimensión 1:\n",
      "[[14 12 12]\n",
      " [14 17 12]\n",
      " [10 13  8]]\n"
     ]
    }
   ],
   "source": [
    "# Crear un tensor tridimensional (3x3x3) con números aleatorios.\n",
    "tensor_tridimensional = np.random.randint(0, 10, (3, 3, 3))\n",
    "print(\"Tensor tridimensional:\")\n",
    "print(tensor_tridimensional)\n",
    "\n",
    "# Calcular la suma de todos los elementos en la dimensión 1.\n",
    "suma_dim1 = np.sum(tensor_tridimensional, axis=1)\n",
    "print(\"\\nSuma en la dimensión 1:\")\n",
    "print(suma_dim1)"
   ]
  }
 ],
 "metadata": {
  "kernelspec": {
   "display_name": "conda",
   "language": "python",
   "name": "python3"
  },
  "language_info": {
   "codemirror_mode": {
    "name": "ipython",
    "version": 3
   },
   "file_extension": ".py",
   "mimetype": "text/x-python",
   "name": "python",
   "nbconvert_exporter": "python",
   "pygments_lexer": "ipython3",
   "version": "3.12.0"
  }
 },
 "nbformat": 4,
 "nbformat_minor": 2
}
